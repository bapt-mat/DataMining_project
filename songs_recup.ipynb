{
 "cells": [
  {
   "cell_type": "markdown",
   "metadata": {},
   "source": [
    "### Libraries"
   ]
  },
  {
   "cell_type": "code",
   "execution_count": 2,
   "metadata": {
    "vscode": {
     "languageId": "r"
    }
   },
   "outputs": [],
   "source": [
    "library(tuneR)\n",
    "library(signal)\n",
    "library(seewave)\n",
    "library(wavelets)\n",
    "library(lintr)\n"
   ]
  },
  {
   "cell_type": "markdown",
   "metadata": {},
   "source": [
    "## Identifying bird songs timestamps (in the original propagation tape)"
   ]
  },
  {
   "cell_type": "code",
   "execution_count": 3,
   "metadata": {
    "vscode": {
     "languageId": "r"
    }
   },
   "outputs": [],
   "source": [
    "setwd(\"/home/baptiste/MASTER1/S2/DataMining/project/\") \n",
    "bande_propag <- readWave(\"./data/Propagation_experiments/bande_propag.wav\")\n"
   ]
  },
  {
   "cell_type": "code",
   "execution_count": 4,
   "metadata": {
    "vscode": {
     "languageId": "r"
    }
   },
   "outputs": [],
   "source": [
    "waveform <- bande_propag@left / (2^(bande_propag@bit - 1))  # Normalize amplitude\n"
   ]
  },
  {
   "cell_type": "code",
   "execution_count": 5,
   "metadata": {
    "vscode": {
     "languageId": "r"
    }
   },
   "outputs": [],
   "source": [
    "lowcut <- 3000  \n",
    "highcut <- 4500  \n",
    "\n",
    "Wn <- c(lowcut, highcut) / (bande_propag@samp.rate/2)\n",
    "\n",
    "bf <- butter(n = 2, Wn, type = \"pass\")\n",
    "\n",
    "filtered_wave <- filter(bf, waveform)\n"
   ]
  },
  {
   "cell_type": "code",
   "execution_count": 6,
   "metadata": {
    "vscode": {
     "languageId": "r"
    }
   },
   "outputs": [],
   "source": [
    "threshold <- 0.3  # Amplitude threshold (0.3)\n",
    "above_threshold <- which(abs(filtered_wave) > threshold)  # Indices where the amplitude exceeds threshold\n"
   ]
  },
  {
   "cell_type": "code",
   "execution_count": 7,
   "metadata": {
    "vscode": {
     "languageId": "r"
    }
   },
   "outputs": [],
   "source": [
    "# Minimum gap between distinct signals (Manual adjustment)\n",
    "min_gap <- 3\n",
    "# Convert the indices in seconds\n",
    "start_times <- above_threshold / bande_propag@samp.rate \n",
    "# Apply the minimum gap between each signal\n",
    "distinct_start_times <- c(start_times[1], start_times[which(diff(start_times) > min_gap) + 1]) \n"
   ]
  },
  {
   "cell_type": "code",
   "execution_count": 8,
   "metadata": {
    "vscode": {
     "languageId": "r"
    }
   },
   "outputs": [
    {
     "name": "stdout",
     "output_type": "stream",
     "text": [
      "    Start_Time\n",
      "1     22.12576\n",
      "2     28.28084\n",
      "3     36.48009\n",
      "4     44.02317\n",
      "5     51.97204\n",
      "6     59.97846\n",
      "7     65.95293\n",
      "8     72.30483\n",
      "9     78.89853\n",
      "10    85.52510\n",
      "11    92.73494\n",
      "12    99.55782\n",
      "13   107.66574\n",
      "14   115.65129\n",
      "15   123.44408\n",
      "16   132.29002\n",
      "17   138.54794\n",
      "18   145.97955\n",
      "19   152.43145\n",
      "20   159.29850\n",
      "21   165.92998\n",
      "22   173.01308\n",
      "23   181.23687\n",
      "24   189.05215\n",
      "25   197.37156\n",
      "26   205.97556\n",
      "27   212.16129\n",
      "28   218.54896\n",
      "29   224.70209\n",
      "30   232.06107\n",
      "31   244.70256\n",
      "32   251.35955\n",
      "33   259.64424\n",
      "34   267.97200\n",
      "35   276.45635\n",
      "36   285.93730\n",
      "37   292.71964\n",
      "38   299.02744\n",
      "39   305.25642\n",
      "40   312.14066\n",
      "41   319.29023\n",
      "42   326.19274\n",
      "43   333.94594\n",
      "44   341.51193\n",
      "45   349.98882\n",
      "46   357.98188\n",
      "47   364.39900\n",
      "48   371.04279\n",
      "49   377.23442\n",
      "50   384.18302\n",
      "51   397.61252\n",
      "52   404.84515\n",
      "53   413.07571\n",
      "54   420.35889\n",
      "55   428.28066\n",
      "56   436.68048\n",
      "57   443.66147\n",
      "58   450.10909\n",
      "59   456.21982\n",
      "60   462.94054\n",
      "61   469.68646\n",
      "62   477.01839\n",
      "63   485.66596\n",
      "64   493.94111\n",
      "65   501.61707\n",
      "66   510.27222\n",
      "67   516.99937\n",
      "68   523.28478\n",
      "69   529.97422\n",
      "70   536.40043\n",
      "71   543.53939\n",
      "72   549.97488\n",
      "73   558.02544\n",
      "74   566.25617\n",
      "75   574.51832\n",
      "76   581.19633\n",
      "77   587.81995\n",
      "78   594.02780\n",
      "79   600.30574\n",
      "80   606.74025\n",
      "81   621.09819\n",
      "82   627.94336\n",
      "83   636.05773\n",
      "84   643.99834\n",
      "85   652.55753\n",
      "86   660.83506\n",
      "87   667.10143\n",
      "88   673.94667\n",
      "89   680.18961\n",
      "90   686.46181\n",
      "91   693.22374\n",
      "92   700.31977\n",
      "93   707.99410\n",
      "94   715.93041\n",
      "95   723.40014\n",
      "96   732.19832\n",
      "97   738.95678\n",
      "98   745.61508\n",
      "99   751.80603\n",
      "100  758.47701\n"
     ]
    }
   ],
   "source": [
    "# Store the results\n",
    "results <- data.frame(Start_Time = distinct_start_times)\n",
    "print(results)\n",
    "write.csv(results, \"./data/Propagation_experiments/timestamps.csv\", row.names = FALSE)\n",
    "\n"
   ]
  },
  {
   "cell_type": "markdown",
   "metadata": {},
   "source": [
    "## Extracting the signals"
   ]
  },
  {
   "cell_type": "markdown",
   "metadata": {},
   "source": [
    "#### Filter the .wav files"
   ]
  },
  {
   "cell_type": "code",
   "execution_count": 4,
   "metadata": {
    "vscode": {
     "languageId": "r"
    }
   },
   "outputs": [],
   "source": [
    "filter_audio <- function(audio){\n",
    "    lowcut <- 500  \n",
    "    highcut <- 6000  \n",
    "\n",
    "    filtered_audio <- ffilter(audio, f = audio@samp.rate, from = lowcut, to = highcut, bandpass = TRUE, wn = \"hanning\", output = \"Wave\")\n",
    "    \n",
    "    max_val <- max(abs(filtered_audio@left))\n",
    "    scaling_factor <- 32767 / max_val\n",
    "    filtered_audio@left <- filtered_audio@left * scaling_factor\n",
    "    filtered_audio@left <- round(filtered_audio@left)\n",
    "\n",
    "    return(filtered_audio)\n",
    "}\n"
   ]
  },
  {
   "cell_type": "code",
   "execution_count": 7,
   "metadata": {
    "vscode": {
     "languageId": "r"
    }
   },
   "outputs": [],
   "source": [
    "audio <- readWave(\"./data/Propagation_experiments/bande_propag.wav\")\n",
    "audio <- filter_audio(audio)\n",
    "writeWave(audio, \"./data/Propagation_experiments/bande_propag_filtered.wav\")\n"
   ]
  },
  {
   "cell_type": "code",
   "execution_count": 5,
   "metadata": {
    "vscode": {
     "languageId": "r"
    }
   },
   "outputs": [],
   "source": [
    "audio <- readWave(\"./data/Propagation_experiments/enregistrements_propagation_Lipaugus/12_5_m_propag.WAV\")\n",
    "audio <- filter_audio(audio)\n",
    "writeWave(audio, \"./data/Propagation_experiments/enregistrements_propagation_Lipaugus/12_5_m_propag_filtered.WAV\")\n"
   ]
  },
  {
   "cell_type": "code",
   "execution_count": 6,
   "metadata": {
    "vscode": {
     "languageId": "r"
    }
   },
   "outputs": [],
   "source": [
    "audio <- readWave(\"./data/Propagation_experiments/enregistrements_propagation_Lipaugus/25_m_propag.WAV\")\n",
    "audio <- filter_audio(audio)\n",
    "writeWave(audio, \"./data/Propagation_experiments/enregistrements_propagation_Lipaugus/25_m_propag_filtered.WAV\")\n"
   ]
  },
  {
   "cell_type": "code",
   "execution_count": 7,
   "metadata": {
    "vscode": {
     "languageId": "r"
    }
   },
   "outputs": [],
   "source": [
    "audio <- readWave(\"./data/Propagation_experiments/enregistrements_propagation_Lipaugus/50_m_propag.WAV\")\n",
    "audio <- filter_audio(audio)\n",
    "writeWave(audio, \"./data/Propagation_experiments/enregistrements_propagation_Lipaugus/50_m_propag_filtered.WAV\")\n"
   ]
  },
  {
   "cell_type": "code",
   "execution_count": 8,
   "metadata": {
    "vscode": {
     "languageId": "r"
    }
   },
   "outputs": [],
   "source": [
    "audio <- readWave(\"./data/Propagation_experiments/enregistrements_propagation_Lipaugus/100_m_propag.WAV\")\n",
    "audio <- filter_audio(audio)\n",
    "writeWave(audio, \"./data/Propagation_experiments/enregistrements_propagation_Lipaugus/100_m_propag_filtered.WAV\")\n"
   ]
  },
  {
   "cell_type": "code",
   "execution_count": 5,
   "metadata": {
    "vscode": {
     "languageId": "r"
    }
   },
   "outputs": [],
   "source": [
    "audio <- readWave(\"./data/Propagation_experiments/enregistrements_propagation_Lipaugus/200_m_propag.WAV\")\n",
    "audio <- filter_audio(audio)\n",
    "writeWave(audio, \"./data/Propagation_experiments/enregistrements_propagation_Lipaugus/200_m_propag_filtered.WAV\")\n",
    "\n"
   ]
  },
  {
   "cell_type": "markdown",
   "metadata": {},
   "source": [
    "#### Cutting segments function"
   ]
  },
  {
   "cell_type": "code",
   "execution_count": 12,
   "metadata": {
    "vscode": {
     "languageId": "r"
    }
   },
   "outputs": [],
   "source": [
    "time_minus <- 0.1\n",
    "time_plus <- 1.3\n"
   ]
  },
  {
   "cell_type": "code",
   "execution_count": 13,
   "metadata": {
    "vscode": {
     "languageId": "r"
    }
   },
   "outputs": [],
   "source": [
    "cut_segments <- function(timestamps, audio, distance, output_dir, noise_output_dir) {\n",
    "    individuals <- c(\"O\", \"K\", \"L\", \"M\", \"N\", \"NMA\", \"NMC\", \"NMD\", \"NME\", \"Z\")\n",
    "    for (i in 1:nrow(timestamps)) {\n",
    "        actual_timestamp <- timestamps[[i, 1]]\n",
    "        start_time <- actual_timestamp - time_minus\n",
    "        end_time <- actual_timestamp + time_plus\n",
    "        \n",
    "        noise_start_time <- end_time + 0.6\n",
    "        noise_end_time <- noise_start_time + (time_minus + time_plus)\n",
    "        name_individual <- individuals[((i - 1) %/% 10) + 1]\n",
    "\n",
    "        segment <- extractWave(audio, from = start_time, to = end_time, xunit=\"time\")\n",
    "        noise_segment <- extractWave(audio, from = noise_start_time, to = noise_end_time, xunit=\"time\")\n",
    "\n",
    "        output_name <- paste0(output_dir, name_individual, \"_segment_\", i, \"_\", distance, \"m.wav\")\n",
    "        noise_output_name <- paste0(noise_output_dir, name_individual, \"_noise_\", i, \"_\", distance, \"m.wav\")\n",
    "        writeWave(segment, output_name)\n",
    "        writeWave(noise_segment, noise_output_name)\n",
    "    }\n",
    "}\n"
   ]
  },
  {
   "cell_type": "markdown",
   "metadata": {},
   "source": [
    "### From the original propagation tape"
   ]
  },
  {
   "cell_type": "code",
   "execution_count": 6,
   "metadata": {
    "vscode": {
     "languageId": "r"
    }
   },
   "outputs": [
    {
     "name": "stdout",
     "output_type": "stream",
     "text": [
      "[1] \"Audio duration: 776.782947845805 seconds\"\n"
     ]
    }
   ],
   "source": [
    "audio <- readWave(\"./data/Propagation_experiments/bande_propag_filtered.wav\")\n",
    "audio_duration <- length(audio@left) / audio@samp.rate \n",
    "print(paste(\"Audio duration:\", audio_duration, \"seconds\"))\n",
    "\n",
    "timestamps <- read.csv(\"./data/Propagation_experiments/timestamps.csv\")\n",
    "output_dir <- \"./data/Propagation_experiments/individuals_bande_propag/\"\n",
    "\n",
    "if (!dir.exists(output_dir)) {\n",
    "  dir.create(output_dir, recursive = FALSE)\n",
    "}\n",
    "\n",
    "individuals <- c(\"O\", \"K\", \"L\", \"M\", \"N\", \"NMA\", \"NMC\", \"NMD\", \"NME\", \"Z\")\n",
    "\n",
    "for (i in 1:nrow(timestamps)) {\n",
    "  actual_timestamp <- timestamps[[i, 1]]\n",
    "  start_time <- actual_timestamp - time_minus\n",
    "  end_time <- actual_timestamp + time_plus\n",
    "\n",
    "  name_individual <- individuals[((i - 1) %/% 10) + 1]\n",
    "\n",
    "  segment <- extractWave(audio, from = start_time, to = end_time, xunit=\"time\")\n",
    "\n",
    "  output_name <- paste0(output_dir, name_individual, \"_segment_\", i, \".wav\")\n",
    "  writeWave(segment, output_name)\n",
    "}\n"
   ]
  },
  {
   "cell_type": "markdown",
   "metadata": {},
   "source": [
    "### 12.5 meters\n",
    "/\\ = 25.08s.  \n",
    "/\\ ---> beginning of original tape = 112s.  \n",
    "Time to be added = 137.08s."
   ]
  },
  {
   "cell_type": "code",
   "execution_count": 7,
   "metadata": {
    "vscode": {
     "languageId": "r"
    }
   },
   "outputs": [
    {
     "name": "stdout",
     "output_type": "stream",
     "text": [
      "[1] \"Audio duration: 981.286893424036 seconds\"\n"
     ]
    }
   ],
   "source": [
    "audio <- readWave(\"./data/Propagation_experiments/enregistrements_propagation_Lipaugus/12_5_m_propag_filtered.WAV\")\n",
    "audio_duration <- length(audio@left) / audio@samp.rate \n",
    "print(paste(\"Audio duration:\", audio_duration, \"seconds\"))\n",
    "\n",
    "timestamps <- read.csv(\"./data/Propagation_experiments/timestamps.csv\")\n",
    "output_dir <- \"./data/Propagation_experiments/individuals_propagation/12_5_m/\"\n",
    "noise_output_dir <- \"./data/Propagation_experiments/noise_propagation/noise_12_5_m/\"\n",
    "\n",
    "if (!dir.exists(output_dir)) {\n",
    "  dir.create(output_dir, recursive = FALSE)\n",
    "}\n",
    "\n",
    "if (!dir.exists(noise_output_dir)) {\n",
    "  dir.create(noise_output_dir, recursive = FALSE)\n",
    "}\n",
    "\n",
    "timestamps <- timestamps + 137.08\n",
    "\n",
    "cut_segments(timestamps, audio, \"12-5\", output_dir, noise_output_dir)\n"
   ]
  },
  {
   "cell_type": "markdown",
   "metadata": {},
   "source": [
    "### 25 meters\n",
    "/\\ = 26.92s.  \n",
    "Time to be added = 138.92 "
   ]
  },
  {
   "cell_type": "code",
   "execution_count": 8,
   "metadata": {
    "vscode": {
     "languageId": "r"
    }
   },
   "outputs": [
    {
     "name": "stdout",
     "output_type": "stream",
     "text": [
      "[1] \"Audio duration: 980.062040816327 seconds\"\n"
     ]
    }
   ],
   "source": [
    "audio <- readWave(\"./data/Propagation_experiments/enregistrements_propagation_Lipaugus/25_m_propag_filtered.WAV\")\n",
    "audio_duration <- length(audio@left) / audio@samp.rate \n",
    "print(paste(\"Audio duration:\", audio_duration, \"seconds\"))\n",
    "\n",
    "timestamps <- read.csv(\"./data/Propagation_experiments/timestamps.csv\")\n",
    "output_dir <- \"./data/Propagation_experiments/individuals_propagation/25_m/\"\n",
    "noise_output_dir <- \"./data/Propagation_experiments/noise_propagation/noise_25_m/\"\n",
    "\n",
    "if (!dir.exists(output_dir)) {\n",
    "  dir.create(output_dir, recursive = FALSE)\n",
    "}\n",
    "\n",
    "if (!dir.exists(noise_output_dir)) {\n",
    "  dir.create(noise_output_dir, recursive = FALSE)\n",
    "}\n",
    "\n",
    "timestamps <- timestamps + 138.92\n",
    "\n",
    "cut_segments(timestamps, audio, \"25\", output_dir, noise_output_dir)\n"
   ]
  },
  {
   "cell_type": "markdown",
   "metadata": {},
   "source": [
    "### 50 meters\n",
    "/\\ = 24.735  \n",
    "Time to be added = 136.735"
   ]
  },
  {
   "cell_type": "code",
   "execution_count": 9,
   "metadata": {
    "vscode": {
     "languageId": "r"
    }
   },
   "outputs": [
    {
     "name": "stdout",
     "output_type": "stream",
     "text": [
      "[1] \"Audio duration: 976.428117913832 seconds\"\n"
     ]
    }
   ],
   "source": [
    "audio <- readWave(\"./data/Propagation_experiments/enregistrements_propagation_Lipaugus/50_m_propag_filtered.WAV\")\n",
    "audio_duration <- length(audio@left) / audio@samp.rate \n",
    "print(paste(\"Audio duration:\", audio_duration, \"seconds\"))\n",
    "\n",
    "timestamps <- read.csv(\"./data/Propagation_experiments/timestamps.csv\")\n",
    "output_dir <- \"./data/Propagation_experiments/individuals_propagation/50_m/\"\n",
    "noise_output_dir <- \"./data/Propagation_experiments/noise_propagation/noise_50_m/\"\n",
    "\n",
    "if (!dir.exists(output_dir)) {\n",
    "  dir.create(output_dir, recursive = FALSE)\n",
    "}\n",
    "\n",
    "if (!dir.exists(noise_output_dir)) {\n",
    "  dir.create(noise_output_dir, recursive = FALSE)\n",
    "}\n",
    "\n",
    "\n",
    "timestamps <- timestamps + 136.735\n",
    "\n",
    "cut_segments(timestamps, audio, \"50\", output_dir, noise_output_dir)\n"
   ]
  },
  {
   "cell_type": "markdown",
   "metadata": {},
   "source": [
    "### 100 meters\n",
    "/\\ = 42.8s.  \n",
    "Time to be added = 154.8s."
   ]
  },
  {
   "cell_type": "code",
   "execution_count": 10,
   "metadata": {
    "vscode": {
     "languageId": "r"
    }
   },
   "outputs": [
    {
     "name": "stdout",
     "output_type": "stream",
     "text": [
      "[1] \"Audio duration: 999.886077097506 seconds\"\n"
     ]
    }
   ],
   "source": [
    "audio <- readWave(\"./data/Propagation_experiments/enregistrements_propagation_Lipaugus/100_m_propag_filtered.WAV\")\n",
    "audio_duration <- length(audio@left) / audio@samp.rate \n",
    "print(paste(\"Audio duration:\", audio_duration, \"seconds\"))\n",
    "\n",
    "timestamps <- read.csv(\"./data/Propagation_experiments/timestamps.csv\")\n",
    "output_dir <- \"./data/Propagation_experiments/individuals_propagation/100_m/\"\n",
    "noise_output_dir <- \"./data/Propagation_experiments/noise_propagation/noise_100_m/\"\n",
    "\n",
    "if (!dir.exists(output_dir)) {\n",
    "  dir.create(output_dir, recursive = FALSE)\n",
    "}\n",
    "\n",
    "if (!dir.exists(noise_output_dir)) {\n",
    "  dir.create(noise_output_dir, recursive = FALSE)\n",
    "}\n",
    "\n",
    "timestamps <- timestamps + 154.8\n",
    "\n",
    "cut_segments(timestamps, audio, \"100\", output_dir, noise_output_dir)\n"
   ]
  },
  {
   "cell_type": "markdown",
   "metadata": {},
   "source": [
    "### 200 meters\n",
    "/\\ = 66.47s.  \n",
    "Time to be added = 178.47"
   ]
  },
  {
   "cell_type": "code",
   "execution_count": 11,
   "metadata": {
    "vscode": {
     "languageId": "r"
    }
   },
   "outputs": [
    {
     "name": "stdout",
     "output_type": "stream",
     "text": [
      "[1] \"Audio duration: 1053.28036281179 seconds\"\n"
     ]
    }
   ],
   "source": [
    "audio <- readWave(\"./data/Propagation_experiments/enregistrements_propagation_Lipaugus/200_m_propag_filtered.WAV\")\n",
    "audio_duration <- length(audio@left) / audio@samp.rate\n",
    "print(paste(\"Audio duration:\", audio_duration, \"seconds\"))\n",
    "\n",
    "timestamps <- read.csv(\"./data/Propagation_experiments/timestamps.csv\")\n",
    "output_dir <- \"./data/Propagation_experiments/individuals_propagation/200_m/\"\n",
    "noise_output_dir <- \"./data/Propagation_experiments/noise_propagation/noise_200_m/\"\n",
    "\n",
    "if (!dir.exists(output_dir)) {\n",
    "  dir.create(output_dir, recursive = FALSE)\n",
    "}\n",
    "\n",
    "if (!dir.exists(noise_output_dir)) {\n",
    "  dir.create(noise_output_dir, recursive = FALSE)\n",
    "}\n",
    "\n",
    "timestamps <- timestamps + 178.47\n",
    "\n",
    "cut_segments(timestamps, audio, \"200\", output_dir, noise_output_dir)\n"
   ]
  }
 ],
 "metadata": {
  "kernelspec": {
   "display_name": "R",
   "language": "R",
   "name": "ir"
  },
  "language_info": {
   "codemirror_mode": "r",
   "file_extension": ".r",
   "mimetype": "text/x-r-source",
   "name": "R",
   "pygments_lexer": "r",
   "version": "4.4.2"
  }
 },
 "nbformat": 4,
 "nbformat_minor": 2
}
